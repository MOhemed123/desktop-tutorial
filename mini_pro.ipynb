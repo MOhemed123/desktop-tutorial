{
 "cells": [
  {
   "cell_type": "code",
   "execution_count": 8,
   "metadata": {},
   "outputs": [],
   "source": [
    "import mymodule as my"
   ]
  },
  {
   "cell_type": "code",
   "execution_count": 13,
   "metadata": {},
   "outputs": [],
   "source": [
    "x= float(input(\"enter number \"))\n",
    "y= float(input(\"enter number \"))\n",
    "op= input(\"enter operter  \")"
   ]
  },
  {
   "cell_type": "code",
   "execution_count": 14,
   "metadata": {},
   "outputs": [
    {
     "name": "stdout",
     "output_type": "stream",
     "text": [
      " no  divide by zero \n"
     ]
    }
   ],
   "source": [
    "if op == '+':\n",
    "    my.add(x,y)\n",
    "elif op=='-':\n",
    "    my.sub(x,y)\n",
    "elif op == '*' or op == 'x':\n",
    "    my.mult(x,y)\n",
    "elif op == '/' :\n",
    "    my.divd(x,y)\n",
    "else:\n",
    "    print('end')    \n",
    "\n"
   ]
  },
  {
   "cell_type": "code",
   "execution_count": null,
   "metadata": {},
   "outputs": [],
   "source": []
  }
 ],
 "metadata": {
  "kernelspec": {
   "display_name": "base",
   "language": "python",
   "name": "python3"
  },
  "language_info": {
   "codemirror_mode": {
    "name": "ipython",
    "version": 3
   },
   "file_extension": ".py",
   "mimetype": "text/x-python",
   "name": "python",
   "nbconvert_exporter": "python",
   "pygments_lexer": "ipython3",
   "version": "3.7.6"
  },
  "orig_nbformat": 4,
  "vscode": {
   "interpreter": {
    "hash": "6214b5c1ac65d44cf460afc6a1a3dc687733e1d70de9e9c297bcf6431b359f8e"
   }
  }
 },
 "nbformat": 4,
 "nbformat_minor": 2
}
